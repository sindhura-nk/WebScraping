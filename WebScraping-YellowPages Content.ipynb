{
 "cells": [
  {
   "cell_type": "code",
   "execution_count": 1,
   "metadata": {},
   "outputs": [
    {
     "name": "stdout",
     "output_type": "stream",
     "text": [
      "Requirement already satisfied: beautifulsoup4 in c:\\users\\acer\\appdata\\local\\programs\\python\\python38\\lib\\site-packages (4.12.3)\n",
      "Requirement already satisfied: requests in c:\\users\\acer\\appdata\\local\\programs\\python\\python38\\lib\\site-packages (2.32.3)\n",
      "Requirement already satisfied: soupsieve>1.2 in c:\\users\\acer\\appdata\\local\\programs\\python\\python38\\lib\\site-packages (from beautifulsoup4) (2.6)\n",
      "Requirement already satisfied: charset-normalizer<4,>=2 in c:\\users\\acer\\appdata\\local\\programs\\python\\python38\\lib\\site-packages (from requests) (3.3.2)\n",
      "Requirement already satisfied: certifi>=2017.4.17 in c:\\users\\acer\\appdata\\local\\programs\\python\\python38\\lib\\site-packages (from requests) (2024.7.4)\n",
      "Requirement already satisfied: urllib3<3,>=1.21.1 in c:\\users\\acer\\appdata\\local\\programs\\python\\python38\\lib\\site-packages (from requests) (2.2.2)\n",
      "Requirement already satisfied: idna<4,>=2.5 in c:\\users\\acer\\appdata\\local\\programs\\python\\python38\\lib\\site-packages (from requests) (3.7)\n",
      "Note: you may need to restart the kernel to use updated packages.\n"
     ]
    },
    {
     "name": "stderr",
     "output_type": "stream",
     "text": [
      "WARNING: You are using pip version 21.1.1; however, version 24.2 is available.\n",
      "You should consider upgrading via the 'c:\\Users\\acer\\AppData\\Local\\Programs\\Python\\Python38\\python.exe -m pip install --upgrade pip' command.\n"
     ]
    }
   ],
   "source": [
    "%pip install beautifulsoup4 requests"
   ]
  },
  {
   "cell_type": "code",
   "execution_count": 3,
   "metadata": {},
   "outputs": [],
   "source": [
    "import pandas as pd\n",
    "import requests\n",
    "from bs4 import BeautifulSoup"
   ]
  },
  {
   "cell_type": "code",
   "execution_count": 4,
   "metadata": {},
   "outputs": [
    {
     "data": {
      "text/plain": [
       "<Response [200]>"
      ]
     },
     "execution_count": 4,
     "metadata": {},
     "output_type": "execute_result"
    }
   ],
   "source": [
    "url = 'http://yellowpages.in/'\n",
    "status_code = requests.get(url)\n",
    "status_code"
   ]
  },
  {
   "cell_type": "code",
   "execution_count": 5,
   "metadata": {},
   "outputs": [],
   "source": [
    "response = requests.get(url)\n",
    "data = response.content"
   ]
  },
  {
   "cell_type": "code",
   "execution_count": 6,
   "metadata": {},
   "outputs": [
    {
     "data": {
      "text/plain": [
       "<div class=\"searchBusiness\"><input class=\"homeSearchTextbox businessInputField\" id=\"ipSearch\" placeholder=\"Search local business in India\" type=\"text\" value=\"\"/><div class=\"searchResult\" id=\"divRes\"></div> </div>"
      ]
     },
     "execution_count": 6,
     "metadata": {},
     "output_type": "execute_result"
    }
   ],
   "source": [
    "soup = BeautifulSoup(data)\n",
    "search = soup.find('div',class_='searchBusiness')\n",
    "search"
   ]
  },
  {
   "cell_type": "code",
   "execution_count": 7,
   "metadata": {},
   "outputs": [
    {
     "data": {
      "text/plain": [
       "b'<!DOCTYPE html><html><head id=\"head1\" prefix=\"og: https://ogp.me/ns# fb: https://ogp.me/ns/fb# product: https://ogp.me/ns/product#\"><meta charset=\"utf-8\" /><meta http-equiv=\"X-UA-Compatible\" content=\"IE=edge\" /><title>Best Stainless Steel Pipe Dealer in Hyderabad</title><meta name=\"viewport\" content=\"width=device-width, initial-scale=1, user-scalable=no\" /><link rel=\"shortcut icon\" href=\"/images/favicon.ico\" type=\"image/x-icon\" /><link rel=\"stylesheet\" href=\"/css/v6/popup.css\" /><script src=\"/js/v4/jquery.min.js\"></script><link rel=\"manifest\" href=\"/js/v4/manifest.json\" /><meta property=\\'fb:app_id\\' content=\\'1719688271655824\\' /><meta property=\\'fb:admins\\' content=\\'100001091606750\\' /><meta property=\\'og:title\\' itemprop=\\'name\\' content=\\'Best Stainless Steel Pipe Dealer in Hyderabad\\' /><meta property=\\'og:description\\' itemprop=\\'description\\' content=\\'Get 13 listings from Stainless Steel Pipe Dealer in Hyderabad. Find details like photos, reviews, directions, phone numbers, address and more..\\' /><meta property=\\'og:url\\' itemprop=\\'url\\' content=\\'https://www.yellowpages.in/hyderabad/stainless-steel-pipe-dealer/960366294\\'/><meta property=\\'og:site_name\\' content=\\'www.yellowpages.in\\' /><meta property=\\'article:publisher\\' content=\\'https://www.facebook.com/Yellowpagesin-718593851493856/\\' /><meta property=\\'og:image\\' itemprop=\\'image\\' content=\\'http://cdn.yellowpages.in/images/yellow-pages-logo.png\\' /><link rel=\"stylesheet\" href=\"/css/v6/yp-search.css\"><script src=\"/js/v4/ct2.js\"></script> <style type=\"text/css\">.modal {\\rposition: fixed;\\rz-index: 1000;\\rtop: 0;\\rleft: 0;\\rheight: 100%;\\rwidth: 100%;\\rdisplay: none;\\ropacity:0.5;\\rbackground: url(/images/load.gif) 50% 45% no-repeat rgba(255, 255, 255, 0.8);\\r}\\r.searchResultList li a {\\rtext-decoration:none;\\rwidth:100%;\\rcolor:#000;\\rdisplay:block;\\r}\\r.errorMessage {\\rcolor:red;\\rfont-size:13px;\\r}\\r</style><link rel=\"canonical\" href=\"http://yp.infomericainc.com/hyderabad/stainless-steel-pipe-dealer/960366294\" /><meta name=\"description\" content=\"Get 13 listings from Stainless Steel Pipe Dealer in Hyderabad. Find details like photos, reviews, directions, phone numbers, address and more..\" /></head><body><form method=\"post\" action=\"/hyderabad/stainless-steel-pipe-dealer/960366294\" id=\"frmBase\" autocomplete=\"off\"><div class=\"aspNetHidden\"><input type=\"hidden\" name=\"__VIEWSTATE\" id=\"__VIEWSTATE\" value=\"/wEPDwULLTE1MzM4NzIwMDFkZPnTn8Q7iDHcd8AwboEvA/sfxn0pzXuJ0QqzHsxRby2v\" /></div><div class=\"modal\"></div><div class=\"scrollToTop\">Scroll Top</div><div id=\"main\"><div class=\"innerHeader container\"><div class=\"wrapper\"><a href=\"/\" class=\"branding\">Yellow Pages</a><div class=\"innerSearchBlock\"><div class=\"homeSearchBlock\" id=\"homeSearchBlock\"><div class=\"searchFullBlock\"> <div class=\"searchLocation\"><input name=\"ctl00$ipLocation\" type=\"text\" id=\"ipLocation\" class=\"homeSearchTextbox locationInputField\" placeholder=\"Please type a location\" value=\"Hyderabad\" /><div class=\"searchResult\" id=\"divLoc\"></div></div><div class=\"searchBusiness\"><input type=\"text\" value=\"\" class=\"homeSearchTextbox businessInputField\" id=\"ipSearch\" placeholder=\"Search local business in India\"><div class=\"searchResult\" id=\"divRes\"></div></div><div class=\"searchButtonBlock\"><div class=\"searchButton\">Search <i class=\"searchIcon\"></i></div></div></div></div></div><ul class=\"innerTopNavList\"><li><a href=\"/addbusiness\">Add business</a></li><li><a href=\"/categories\">Categories</a></li><li><span class=\"eachTopLink haveSubMenu\"><a href=\"/login\" id=\"lnkLogin\">My account</a></span></li> </ul></div></div><style>/*.homeSearchTextbox:focus + .searchResult,*/\\r.activeSearchTextbox {\\rheight: auto;\\rvisibility: visible;\\rz-index: 9;\\r-webkit-transform: translateY(0%);\\r-ms-transform: translateY(0%);\\r-o-transform: translateY(0%);\\rtransform: translateY(0%);\\r-webkit-transition: transform 0.3s ease;\\r-o-transition: transform 0.3s ease;\\rtransition: transform 0.3s ease;\\r}\\r</style><div class=\"mobileHeader\"><div id=\"MainContent_mobRes\" class=\"mobileMenu hasIcons\">13 results found</div><div class=\"mobileHeadIcons\"><button type=\"button\" class=\"mobSearchBtn\">Search</button><a href=\"/search-map/hyderabad/stainless-steel-pipe-dealer/960366294\" id=\"MainContent_mobMapLnk\" class=\"mobLocation\">Location</a></div></div><div class=\"container resultsMapBg greyBg\"><div class=\"wrapper\"><div class=\"resultsBlock\"><div class=\"sortBlock\"><div class=\"sortSelectBox select\"><span class=\"mobileSortText selText\">Sort Results</span><span class=\"selectText selText\">Popular</span><select name=\"\" id=\"sortResults\" class=\"selectBox\"><option value=\"Popular\">Popular</option><option value=\"A - Z\">A - Z</option><option value=\"By Rating\">By Rating</option><option value=\"Latest\">Latest</option> </select></div></div><div class=\"mobFilterOptionBlock\"><input type=\"button\" id=\"filBtn\" class=\"mobFilterBtn popup\" value=\"Filters\" /></div><div class=\"resultsText\"><span id=\"MainContent_ltlHead\">13 results for Stainless Steel Pipe Dealer near Hyderabad</span></div><div class=\"desktopMapView\"><a href=\"/search-map/hyderabad/stainless-steel-pipe-dealer/960366294\" id=\"MainContent_aMap\" class=\"mapViewBtn\">See Results on Map View</a></div></div></div></div><div class=\"container mainContent greyBg\"><div class=\"wrapper\"><section class=\"leftBigCol\"><div class=\"filtersBlock\"><!-- showFiltersMobile --><div class=\"filtersBlockContent\"><div class=\"filtersHeader\"><div class=\"filtersClose\" id=\"mobileFilterClose\"></div></div><div class=\"filtersFullContentBlock fullWidth\"><div id=\"MainContent_divTabs\" class=\"filtersMainTabs fullWidth\"><div class=\\'filterTab1 eachFilterTab\\'><div class=\\'filterTabTitle\\'>Categories</div><div class=\\'filterTabContent\\'><ul class=\\'filterTabInputsList filterList\\'  id=\\'ulCatLnk\\'><li><a href=\\'/hyderabad/alloy-iron-and-steel-industries/677293761\\'>Alloy, Iron & Steel Industries</a></li><li><a href=\\'/hyderabad/aluminium-extrusion-industry/234219646\\'>Aluminium Extrusion Industry</a></li><li><a href=\\'/hyderabad/general-order-suppliers/634718718\\'>General order suppliers</a></li><li><a href=\\'/hyderabad/gi-pipe-dealer/853838529\\'>GI Pipe Dealer</a></li><li><a href=\\'/hyderabad/hardware-tools/878624110\\'>Hardware Tools</a></li><li><a href=\\'/hyderabad/metal-industries/387906517\\'>Metal Industries</a></li><li><a href=\\'/hyderabad/ms-pipe-dealer/843360533\\'>MS Pipe Dealer</a></li><li><a href=\\'/hyderabad/pipe-dealers/586572067\\'>Pipe Dealers</a></li><li><a href=\\'/hyderabad/power-tools-dealers/612820858\\'>Power Tools Dealers</a></li><li><a href=\\'/hyderabad/railings/360420241\\'>Railings</a></li><li><a href=\\'/hyderabad/steel-wires-and-ropes-manufacturers/486333455\\'>Steel Wires & Ropes Manufacturers</a></li><li><a href=\\'/hyderabad/tmt-iron-and-steel-bars/421572737\\'>Tmt Iron & Steel Bars</a></li><li><a href=\\'/hyderabad/welding-equipment-manufacturers/951824631\\'>Welding Equipment</a></li></ul></div></div><div class=\\'filterTab2 eachFilterTab\\'><div class=\\'filterTabTitle\\'>Locations</div><div class=\\'filterTabContent\\'><ul class=\\'filterTabInputsList filterList\\'  id=\\'ulCatLnk\\'><li><a href=\\'/hyderabad/stainless-steel-pipe-dealer-in-bala-nagar/960366294\\'>Bala Nagar</a></li><li><a href=\\'/hyderabad/stainless-steel-pipe-dealer-in-fathe-nagar/960366294\\'>Fathe Nagar</a></li><li><a href=\\'/hyderabad/stainless-steel-pipe-dealer-in-ranigunj/960366294\\'>Ranigunj</a></li><li><a href=\\'/hyderabad/stainless-steel-pipe-dealer-in-saroor-nagar/960366294\\'>Saroor Nagar</a></li><li><a href=\\'/hyderabad/stainless-steel-pipe-dealer-in-secunderabad/960366294\\'>Secunderabad</a></li></ul></div></div></div></div></div></div><div class=\"businessListingBlock\"><header class=\"hiddenTitle\">Business Listing</header><ul id=\"MainContent_ulFList\" class=\"popularThisWeekList\"><li><div class=\\'eachPopular\\'><div class=\\'eachPopularLeft\\'><div class=\\'eachPopularImage\\'><a href=\\'/b/ak-steels-saroor-nagar-hyderabad/269521408\\'><img width=\\'170\\' height=\\'170\\' src=\\'http://www.yellowpages.in/assets/business/t_default.png\\' alt=\\'\\'></a></div><div class=\\'eachPopularTitleBlock\\'><div class=\\'popularTitleTextBlock\\'><a href=\\'/b/ak-steels-saroor-nagar-hyderabad/269521408\\' class=\\'eachPopularTitle  hasOtherInfo\\'>AK Steels</a><div class=\\'eachPopularOtherActions\\'><span class=\\'yp\\'></span><span class=\\'certified aaP\\'></span></div></div><div class=\\'eachPopularRatingBlock\\'><span class=\\'rating r0-0\\'></span><a style=\\'text-decoration:none;cursor:default\\' class=\\'ratingCount\\'>0 reviews</a></div><div class=\\'openNow\\'><strong>Open</strong> - until 9:00PM</div><div class=\\'eachPopularLink\\'></div></div></div><div class=\\'eachPopularRight\\'><div class=\\'addFav\\' onclick=\\'setFav(this)\\' id=\\'b269521408\\'></div><a class=\\'businessContact\\' href=\\'tel:9440192685\\'>+91 9440192685</a><address class=\\'businessArea\\'><strong>Saroor Nagar</strong> Hyderabad - 500035</address> <div class=\\'directionsLocationsBlock\\'><a target=\\'_blank\\' rel=\\'nofollow\\' href=\\'http://www.google.com/maps/place/17.3526,78.5341\\'>Directions</a></div></div></div></li><li><div class=\\'eachPopular\\'><div class=\\'eachPopularLeft\\'><div class=\\'eachPopularImage\\'><a href=\\'/b/maruti-commercial-corporation-ranigunj-hyderabad/544210319\\'><img width=\\'170\\' height=\\'170\\' src=\\'http://www.yellowpages.in/assets/business/979138275/f-979138275-t.jpg\\' alt=\\'\\'></a></div><div class=\\'eachPopularTitleBlock\\'><div class=\\'popularTitleTextBlock\\'><a href=\\'/b/maruti-commercial-corporation-ranigunj-hyderabad/544210319\\' class=\\'eachPopularTitle  hasOtherInfo\\'>Maruti Commercial Corporation</a><div class=\\'eachPopularOtherActions\\'><span class=\\'ypApproved\\'></span><span class=\\'certified aaP\\'></span></div></div><div class=\\'eachPopularRatingBlock\\'><span class=\\'rating r0-0\\'></span><a style=\\'text-decoration:none;cursor:default\\' class=\\'ratingCount\\'>0 reviews</a></div><div class=\\'openNow\\'><strong>Open</strong> - until 7:00PM</div><ul class=\\'eachPopularTagsList\\'> <li><a href=\\'/hyderabad/gi-pipe-dealer/853838529\\'>GI Pipe Dealer</a></li>, <li><a href=\\'/hyderabad/ms-pipe-dealer/843360533\\'>MS Pipe Dealer</a></li>, <li><a href=\\'/hyderabad/pipe-dealers/586572067\\'>Pipe Dealers</a></li></ul><div class=\\'eachPopularLink\\'><a href=\\'mailto:mcc_pipes@hotmail.com\\' target=\\'_blank\\'>Email</a></div></div></div><div class=\\'eachPopularRight\\'><div class=\\'addFav\\' onclick=\\'setFav(this)\\' id=\\'b544210319\\'></div><a class=\\'businessContact\\' href=\\'tel:40 66312319\\'>+91 40 66312319</a><address class=\\'businessArea\\'><strong>Ranigunj</strong> Hyderabad - 500003</address> <div class=\\'directionsLocationsBlock\\'><a target=\\'_blank\\' rel=\\'nofollow\\' href=\\'http://www.google.com/maps/place/17.4326,78.4908\\'>Directions</a></div></div></div></li><li><div class=\\'eachPopular\\'><div class=\\'eachPopularLeft\\'><div class=\\'eachPopularImage\\'><a href=\\'/b/general-industrial-suppliers-secunderabad-hyderabad/196548791\\'><img width=\\'170\\' height=\\'170\\' src=\\'http://www.yellowpages.in/assets/business/782817814/f-782817814-t.jpg\\' alt=\\'\\'></a></div><div class=\\'eachPopularTitleBlock\\'><div class=\\'popularTitleTextBlock\\'><a href=\\'/b/general-industrial-suppliers-secunderabad-hyderabad/196548791\\' class=\\'eachPopularTitle  hasOtherInfo\\'>General Industrial Suppliers</a><div class=\\'eachPopularOtherActions\\'><span class=\\'ypApproved\\'></span><span class=\\'certified aaP\\'></span></div></div><div class=\\'eachPopularRatingBlock\\'><span class=\\'rating r0-0\\'></span><a style=\\'text-decoration:none;cursor:default\\' class=\\'ratingCount\\'>0 reviews</a></div><div class=\\'openNow\\'><strong>Open</strong> - until 8:00PM</div><ul class=\\'eachPopularTagsList\\'> <li><a href=\\'/hyderabad/hardware-tools/878624110\\'>Hardware Tools</a></li>, <li><a href=\\'/hyderabad/pipe-dealers/586572067\\'>Pipe Dealers</a></li>, <li><a href=\\'/hyderabad/power-tools-dealers/612820858\\'>Power Tools Dealers</a></li></ul><div class=\\'eachPopularLink\\'><a href=\\'mailto:general_id_sup@yahoo.in\\' target=\\'_blank\\'>Email</a></div></div></div><div class=\\'eachPopularRight\\'><div class=\\'addFav\\' onclick=\\'setFav(this)\\' id=\\'b196548791\\'></div><a class=\\'businessContact\\' href=\\'tel:9247180452\\'>+91 9247180452</a><address class=\\'businessArea\\'><strong>Secunderabad</strong> Hyderabad - 500003</address> <div class=\\'directionsLocationsBlock\\'><a target=\\'_blank\\' rel=\\'nofollow\\' href=\\'http://www.google.com/maps/place/17.4399,78.4983\\'>Directions</a></div></div></div></li><li><div class=\\'eachPopular\\'><div class=\\'eachPopularLeft\\'><div class=\\'eachPopularImage\\'><a href=\\'/b/jagadamba-steel-fathe-nagar-hyderabad/154467996\\'><img width=\\'170\\' height=\\'170\\' src=\\'http://www.yellowpages.in/assets/business/329040404/f-329040404-t.jpg\\' alt=\\'\\'></a></div><div class=\\'eachPopularTitleBlock\\'><div class=\\'popularTitleTextBlock\\'><a href=\\'/b/jagadamba-steel-fathe-nagar-hyderabad/154467996\\' class=\\'eachPopularTitle  hasOtherInfo\\'>Jagadamba Steel</a><div class=\\'eachPopularOtherActions\\'><span class=\\'ypApproved\\'></span><span class=\\'certified aaP\\'></span></div></div><div class=\\'eachPopularRatingBlock\\'><span class=\\'rating r0-0\\'></span><a style=\\'text-decoration:none;cursor:default\\' class=\\'ratingCount\\'>0 reviews</a></div><div class=\\'openNow\\'><strong>Open</strong> - until 7:00PM</div><ul class=\\'eachPopularTagsList\\'> <li><a href=\\'/hyderabad/pipe-dealers/586572067\\'>Pipe Dealers</a></li>, <li><a href=\\'/hyderabad/railings/360420241\\'>Railings</a></li></ul><div class=\\'eachPopularLink\\'></div></div></div><div class=\\'eachPopularRight\\'><div class=\\'addFav\\' onclick=\\'setFav(this)\\' id=\\'b154467996\\'></div><a class=\\'businessContact\\' href=\\'tel:9533275221\\'>+91 9533275221</a><address class=\\'businessArea\\'><strong>Fathe Nagar</strong> Hyderabad - 500018</address> <div class=\\'directionsLocationsBlock\\'><a target=\\'_blank\\' rel=\\'nofollow\\' href=\\'http://www.google.com/maps/place/17.4573,78.4517\\'>Directions</a></div></div></div></li><li><div class=\\'eachPopular\\'><div class=\\'eachPopularLeft\\'><div class=\\'eachPopularImage\\'><a href=\\'/b/inderson-pipes-and-tubes-fathe-nagar-hyderabad/279977130\\'><img width=\\'170\\' height=\\'170\\' src=\\'http://www.yellowpages.in/assets/business/341332115/f-341332115-t.jpg\\' alt=\\'\\'></a></div><div class=\\'eachPopularTitleBlock\\'><div class=\\'popularTitleTextBlock\\'><a href=\\'/b/inderson-pipes-and-tubes-fathe-nagar-hyderabad/279977130\\' class=\\'eachPopularTitle  hasOtherInfo\\'>Inderson Pipes & Tubes</a><div class=\\'eachPopularOtherActions\\'><span class=\\'ypApproved\\'></span><span class=\\'certified aaP\\'></span></div></div><div class=\\'eachPopularRatingBlock\\'><span class=\\'rating r0-0\\'></span><a style=\\'text-decoration:none;cursor:default\\' class=\\'ratingCount\\'>0 reviews</a></div><div class=\\'openNow\\'><strong>Open</strong> - until 9:30PM</div><ul class=\\'eachPopularTagsList\\'> <li><a href=\\'/hyderabad/gi-pipe-dealer/853838529\\'>GI Pipe Dealer</a></li>, <li><a href=\\'/hyderabad/ms-pipe-dealer/843360533\\'>MS Pipe Dealer</a></li></ul><div class=\\'eachPopularLink\\'></div></div></div><div class=\\'eachPopularRight\\'><div class=\\'addFav\\' onclick=\\'setFav(this)\\' id=\\'b279977130\\'></div><a class=\\'businessContact\\' href=\\'tel:9246877986\\'>+91 9246877986</a><address class=\\'businessArea\\'><strong>Fathe Nagar</strong> Hyderabad - 500018</address> <div class=\\'directionsLocationsBlock\\'><a target=\\'_blank\\' rel=\\'nofollow\\' href=\\'http://www.google.com/maps/place/17.4573,78.4517\\'>Directions</a></div></div></div></li><li><div class=\\'eachPopular\\'><div class=\\'eachPopularLeft\\'><div class=\\'eachPopularImage\\'><a href=\\'/b/srinath-steel-india-bala-nagar-hyderabad/976549251\\'><img width=\\'170\\' height=\\'170\\' src=\\'http://www.yellowpages.in/assets/business/800796279/f-800796279-t.jpg\\' alt=\\'\\'></a></div><div class=\\'eachPopularTitleBlock\\'><div class=\\'popularTitleTextBlock\\'><a href=\\'/b/srinath-steel-india-bala-nagar-hyderabad/976549251\\' class=\\'eachPopularTitle  hasOtherInfo\\'>Srinath Steel India</a><div class=\\'eachPopularOtherActions\\'><span class=\\'ypApproved\\'></span><span class=\\'certified aaP\\'></span></div></div><div class=\\'eachPopularRatingBlock\\'><span class=\\'rating r0-0\\'></span><a style=\\'text-decoration:none;cursor:default\\' class=\\'ratingCount\\'>0 reviews</a></div><div class=\\'openNow\\'><strong>Open</strong> - until 8:00PM</div><ul class=\\'eachPopularTagsList\\'> <li><a href=\\'/hyderabad/alloy,-iron-and-steel-industries/677293761\\'>Alloy, Iron & Steel Industries</, <li><a href=\\'/hyderabad/steel-wires-and-ropes-manufacturers/486333455\\'>Steel Wires & Ropes Manufactu, <li><a href=\\'/hyderabad/tmt-iron-and-steel-bars/421572737\\'>Tmt Iron & Steel Bars</a></li></ul><div class=\\'eachPopularLink\\'></div></div></div><div class=\\'eachPopularRight\\'><div class=\\'addFav\\' onclick=\\'setFav(this)\\' id=\\'b976549251\\'></div><a class=\\'businessContact\\' href=\\'tel:9390030433\\'>+91 9390030433</a><address class=\\'businessArea\\'><strong>Bala Nagar</strong> Hyderabad - 500037</address> <div class=\\'directionsLocationsBlock\\'><a target=\\'_blank\\' rel=\\'nofollow\\' href=\\'http://www.google.com/maps/place/17.465,78.451\\'>Directions</a></div></div></div></li><li><div class=\\'eachPopular\\'><div class=\\'eachPopularLeft\\'><div class=\\'eachPopularImage\\'><a href=\\'/b/rasika-metals-stockists-ranigunj-hyderabad/921174198\\'><img width=\\'170\\' height=\\'170\\' src=\\'http://www.yellowpages.in/assets/business/548036611/f-548036611-t.jpg\\' alt=\\'\\'></a></div><div class=\\'eachPopularTitleBlock\\'><div class=\\'popularTitleTextBlock\\'><a href=\\'/b/rasika-metals-stockists-ranigunj-hyderabad/921174198\\' class=\\'eachPopularTitle  hasOtherInfo\\'>Rasika Metals Stockists</a><div class=\\'eachPopularOtherActions\\'><span class=\\'ypApproved\\'></span><span class=\\'certified aaP\\'></span></div></div><div class=\\'eachPopularRatingBlock\\'><span class=\\'rating r0-0\\'></span><a style=\\'text-decoration:none;cursor:default\\' class=\\'ratingCount\\'>0 reviews</a></div><div class=\\'openNow\\'><strong>Open</strong> - until 7:00PM</div><ul class=\\'eachPopularTagsList\\'> <li><a href=\\'/hyderabad/alloy,-iron-and-steel-industries/677293761\\'>Alloy, Iron & Steel Industries</, <li><a href=\\'/hyderabad/aluminium-extrusion-industry/234219646\\'>Aluminium Extrusion Industry</a></li, <li><a href=\\'/hyderabad/gi-pipe-dealer/853838529\\'>GI Pipe Dealer</a></li></ul><div class=\\'eachPopularLink\\'><a href=\\'mailto:rasikmetal@gmail.com\\' target=\\'_blank\\'>Email</a></div></div></div><div class=\\'eachPopularRight\\'><div class=\\'addFav\\' onclick=\\'setFav(this)\\' id=\\'b921174198\\'></div><a class=\\'businessContact\\' href=\\'tel:9848272478\\'>+91 9848272478</a><address class=\\'businessArea\\'><strong>Ranigunj</strong> Hyderabad - 500003</address> <div class=\\'directionsLocationsBlock\\'><a target=\\'_blank\\' rel=\\'nofollow\\' href=\\'http://www.google.com/maps/place/17.4326,78.4908\\'>Directions</a></div></div></div></li><li><div class=\\'eachPopular\\'><div class=\\'eachPopularLeft\\'><div class=\\'eachPopularImage\\'><a href=\\'/b/suraj-metal-corporation-ranigunj-hyderabad/302426391\\'><img width=\\'170\\' height=\\'170\\' src=\\'http://www.yellowpages.in/assets/business/t_default.png\\' alt=\\'\\'></a></div><div class=\\'eachPopularTitleBlock\\'><div class=\\'popularTitleTextBlock\\'><a href=\\'/b/suraj-metal-corporation-ranigunj-hyderabad/302426391\\' class=\\'eachPopularTitle  hasOtherInfo\\'>Suraj Metal Corporation</a><div class=\\'eachPopularOtherActions\\'><span class=\\'ypApproved\\'></span><span class=\\'certified aaP\\'></span></div></div><div class=\\'eachPopularRatingBlock\\'><span class=\\'rating r0-0\\'></span><a style=\\'text-decoration:none;cursor:default\\' class=\\'ratingCount\\'>0 reviews</a></div><div class=\\'openNow\\'><strong>Open</strong> - until 9:30PM</div><ul class=\\'eachPopularTagsList\\'> <li><a href=\\'/hyderabad/alloy,-iron-and-steel-industries/677293761\\'>Alloy, Iron & Steel Industries</, <li><a href=\\'/hyderabad/ms-pipe-dealer/843360533\\'>MS Pipe Dealer</a></li>, <li><a href=\\'/hyderabad/pipe-dealers/586572067\\'>Pipe Dealers</a></li></ul><div class=\\'eachPopularLink\\'><a href=\\'mailto:surajmetalcorporation@gmail.com\\' target=\\'_blank\\'>Email</a></div></div></div><div class=\\'eachPopularRight\\'><div class=\\'addFav\\' onclick=\\'setFav(this)\\' id=\\'b302426391\\'></div><a class=\\'businessContact\\' href=\\'tel:9440054782\\'>+91 9440054782</a><address class=\\'businessArea\\'><strong>Ranigunj</strong> Hyderabad - 500003</address> <div class=\\'directionsLocationsBlock\\'><a target=\\'_blank\\' rel=\\'nofollow\\' href=\\'http://www.google.com/maps/place/17.4326,78.4908\\'>Directions</a></div></div></div></li><li><div class=\\'eachPopular\\'><div class=\\'eachPopularLeft\\'><div class=\\'eachPopularImage\\'><a href=\\'/b/shah-enterprises-secunderabad-hyderabad/500869779\\'><img width=\\'170\\' height=\\'170\\' src=\\'http://www.yellowpages.in/assets/business/180084218/f-180084218-t.jpg\\' alt=\\'\\'></a></div><div class=\\'eachPopularTitleBlock\\'><div class=\\'popularTitleTextBlock\\'><a href=\\'/b/shah-enterprises-secunderabad-hyderabad/500869779\\' class=\\'eachPopularTitle  hasOtherInfo\\'>Shah Enterprises</a><div class=\\'eachPopularOtherActions\\'><span class=\\'ypApproved\\'></span><span class=\\'certified aaP\\'></span></div></div><div class=\\'eachPopularRatingBlock\\'><span class=\\'rating r0-0\\'></span><a style=\\'text-decoration:none;cursor:default\\' class=\\'ratingCount\\'>0 reviews</a></div><div class=\\'openNow\\'><strong>Open</strong> - until 7:00PM</div><ul class=\\'eachPopularTagsList\\'> <li><a href=\\'/hyderabad/general-order-suppliers/634718718\\'>General order suppliers</a></li>, <li><a href=\\'/hyderabad/pipe-dealers/586572067\\'>Pipe Dealers</a></li></ul><div class=\\'eachPopularLink\\'><a href=\\'mailto:pratikshah097@gmail.com\\' target=\\'_blank\\'>Email</a></div></div></div><div class=\\'eachPopularRight\\'><div class=\\'addFav\\' onclick=\\'setFav(this)\\' id=\\'b500869779\\'></div><a class=\\'businessContact\\' href=\\'tel:9849387287\\'>+91 9849387287</a><address class=\\'businessArea\\'><strong>Secunderabad</strong> Hyderabad - 500003</address> <div class=\\'directionsLocationsBlock\\'><a target=\\'_blank\\' rel=\\'nofollow\\' href=\\'http://www.google.com/maps/place/17.4326,78.4908\\'>Directions</a></div></div></div></li><li><div class=\\'eachPopular\\'><div class=\\'eachPopularLeft\\'><div class=\\'eachPopularImage\\'><a href=\\'/b/greenstar-impex-private-limited-secunderabad-hyderabad/971701410\\'><img width=\\'170\\' height=\\'170\\' src=\\'http://www.yellowpages.in/assets/business/t_default.png\\' alt=\\'\\'></a></div><div class=\\'eachPopularTitleBlock\\'><div class=\\'popularTitleTextBlock\\'><a href=\\'/b/greenstar-impex-private-limited-secunderabad-hyderabad/971701410\\' class=\\'eachPopularTitle  hasOtherInfo\\'>Greenstar Impex Private Limited</a><div class=\\'eachPopularOtherActions\\'><span class=\\'ypApproved\\'></span><span class=\\'certified aaP\\'></span></div></div><div class=\\'eachPopularRatingBlock\\'><span class=\\'rating r0-0\\'></span><a style=\\'text-decoration:none;cursor:default\\' class=\\'ratingCount\\'>0 reviews</a></div><div class=\\'openNow\\'><strong>Open</strong> - until 7:00PM</div><ul class=\\'eachPopularTagsList\\'> <li><a href=\\'/hyderabad/alloy,-iron-and-steel-industries/677293761\\'>Alloy, Iron & Steel Industries</, <li><a href=\\'/hyderabad/pipe-dealers/586572067\\'>Pipe Dealers</a></li></ul><div class=\\'eachPopularLink\\'><a href=\\'mailto:info@greenstarimp.com\\' target=\\'_blank\\'>Email</a></div></div></div><div class=\\'eachPopularRight\\'><div class=\\'addFav\\' onclick=\\'setFav(this)\\' id=\\'b971701410\\'></div><a class=\\'businessContact\\' href=\\'tel:40 27806203\\'>+91 40 27806203</a><address class=\\'businessArea\\'><strong>Secunderabad</strong> Hyderabad - 500003</address> <div class=\\'directionsLocationsBlock\\'><a target=\\'_blank\\' rel=\\'nofollow\\' href=\\'http://www.google.com/maps/place/17.449568,78.506447\\'>Directions</a></div></div></div></li><li><div class=\\'eachPopular\\'><div class=\\'eachPopularLeft\\'><div class=\\'eachPopularImage\\'><a href=\\'/b/rahul-tube-industries-ranigunj-hyderabad/484007652\\'><img width=\\'170\\' height=\\'170\\' src=\\'http://www.yellowpages.in/assets/business/828062507/f-828062507-t.jpg\\' alt=\\'\\'></a></div><div class=\\'eachPopularTitleBlock\\'><div class=\\'popularTitleTextBlock\\'><a href=\\'/b/rahul-tube-industries-ranigunj-hyderabad/484007652\\' class=\\'eachPopularTitle  hasOtherInfo\\'>Rahul Tube Industries</a><div class=\\'eachPopularOtherActions\\'><span class=\\'ypApproved\\'></span><span class=\\'certified aaP\\'></span></div></div><div class=\\'eachPopularRatingBlock\\'><span class=\\'rating r0-0\\'></span><a style=\\'text-decoration:none;cursor:default\\' class=\\'ratingCount\\'>0 reviews</a></div><div class=\\'openNow\\'><strong>Open</strong> - until 8:00PM</div><ul class=\\'eachPopularTagsList\\'> <li><a href=\\'/hyderabad/pipe-dealers/586572067\\'>Pipe Dealers</a></li>, <li><a href=\\'/hyderabad/railings/360420241\\'>Railings</a></li></ul><div class=\\'eachPopularLink\\'><a href=\\'mailto:rahultubeindustries@gmail.com\\' target=\\'_blank\\'>Email</a></div></div></div><div class=\\'eachPopularRight\\'><div class=\\'addFav\\' onclick=\\'setFav(this)\\' id=\\'b484007652\\'></div><a class=\\'businessContact\\' href=\\'tel:9160547694\\'>+91 9160547694</a><address class=\\'businessArea\\'><strong>Ranigunj</strong> Hyderabad - 500003</address> <div class=\\'directionsLocationsBlock\\'><a target=\\'_blank\\' rel=\\'nofollow\\' href=\\'http://www.google.com/maps/place/17.4326,78.4908\\'>Directions</a></div></div></div></li><li><div class=\\'eachPopular\\'><div class=\\'eachPopularLeft\\'><div class=\\'eachPopularImage\\'><a href=\\'/b/jay-shree-steel-fathe-nagar-hyderabad/428296705\\'><img width=\\'170\\' height=\\'170\\' src=\\'http://www.yellowpages.in/assets/business/133834393/f-133834393-t.jpg\\' alt=\\'\\'></a></div><div class=\\'eachPopularTitleBlock\\'><div class=\\'popularTitleTextBlock\\'><a href=\\'/b/jay-shree-steel-fathe-nagar-hyderabad/428296705\\' class=\\'eachPopularTitle  hasOtherInfo\\'>Jay Shree Steel</a><div class=\\'eachPopularOtherActions\\'><span class=\\'ypApproved\\'></span><span class=\\'certified aaP\\'></span></div></div><div class=\\'eachPopularRatingBlock\\'><span class=\\'rating r0-0\\'></span><a style=\\'text-decoration:none;cursor:default\\' class=\\'ratingCount\\'>0 reviews</a></div><div class=\\'openNow\\'><strong>Open</strong> - until 8:00PM</div><ul class=\\'eachPopularTagsList\\'> <li><a href=\\'/hyderabad/alloy,-iron-and-steel-industries/677293761\\'>Alloy, Iron & Steel Industries</, <li><a href=\\'/hyderabad/tmt-iron-and-steel-bars/421572737\\'>Tmt Iron & Steel Bars</a></li></ul><div class=\\'eachPopularLink\\'><a href=\\'mailto:jaishreesteel2016@gmail.com\\' target=\\'_blank\\'>Email</a></div></div></div><div class=\\'eachPopularRight\\'><div class=\\'addFav\\' onclick=\\'setFav(this)\\' id=\\'b428296705\\'></div><a class=\\'businessContact\\' href=\\'tel:9000971004\\'>+91 9000971004</a><address class=\\'businessArea\\'><strong>Fathe Nagar</strong> Hyderabad - 500018</address> <div class=\\'directionsLocationsBlock\\'><a target=\\'_blank\\' rel=\\'nofollow\\' href=\\'http://www.google.com/maps/place/17.4573,78.4517\\'>Directions</a></div></div></div></li><li><div class=\\'eachPopular\\'><div class=\\'eachPopularLeft\\'><div class=\\'eachPopularImage\\'><a href=\\'/b/vikram-metal-india-fathe-nagar-hyderabad/582433969\\'><img width=\\'170\\' height=\\'170\\' src=\\'http://www.yellowpages.in/assets/business/654283201/f-654283201-t.jpg\\' alt=\\'\\'></a></div><div class=\\'eachPopularTitleBlock\\'><div class=\\'popularTitleTextBlock\\'><a href=\\'/b/vikram-metal-india-fathe-nagar-hyderabad/582433969\\' class=\\'eachPopularTitle  hasOtherInfo\\'>Vikram Metal (India)</a><div class=\\'eachPopularOtherActions\\'><span class=\\'ypApproved\\'></span><span class=\\'certified aaP\\'></span></div></div><div class=\\'eachPopularRatingBlock\\'><span class=\\'rating r0-0\\'></span><a style=\\'text-decoration:none;cursor:default\\' class=\\'ratingCount\\'>0 reviews</a></div><div class=\\'openNow\\'><strong>Open</strong> - until 8:00PM</div><ul class=\\'eachPopularTagsList\\'> <li><a href=\\'/hyderabad/alloy,-iron-and-steel-industries/677293761\\'>Alloy, Iron & Steel Industries</, <li><a href=\\'/hyderabad/general-order-suppliers/634718718\\'>General order suppliers</a></li>, <li><a href=\\'/hyderabad/gi-pipe-dealer/853838529\\'>GI Pipe Dealer</a></li></ul><div class=\\'eachPopularLink\\'><a href=\\'mailto:vikrammetalindia.314@gmail.com\\' target=\\'_blank\\'>Email</a></div></div></div><div class=\\'eachPopularRight\\'><div class=\\'addFav\\' onclick=\\'setFav(this)\\' id=\\'b582433969\\'></div><a class=\\'businessContact\\' href=\\'tel:9959985314\\'>+91 9959985314</a><address class=\\'businessArea\\'><strong>Fathe Nagar</strong> Hyderabad - 500018</address> <div class=\\'directionsLocationsBlock\\'><a target=\\'_blank\\' rel=\\'nofollow\\' href=\\'http://www.google.com/maps/place/17.4573,78.4517\\'>Directions</a></div></div></div></li></ul> <div id=\"MainContent_divLMore\" class=\"mobileLoadMore\"></div> </div></section><aside class=\"rightSmallCol\"><div id=\"MainContent_divFea\" class=\"rightFeatured\" style=\"display:none;\"><div class=\"rightFeaturedBlock\"><h4 class=\"rightFeaturedHeading\">Featured Business</h4><ul id=\"MainContent_ulFeatured\" class=\"featuredBusinessList\"></ul></div></div><div class=\"haveBusiness\"><div class=\"haveBusinessAd\" style=\"background-image:url(https://cdn.yellowpages.in/images/need_help.jpg);\"><div class=\"havebusinessTitle\">Need help in choosing business?</div><div class=\"haveBusinessInfo\">Let Yellowpages.in do that for you</div><button type=\"button\" class=\"addBusinessBtn\">Get me best prices</button></div></div><div class=\"rightColAdvt\"><a href=\"/contact-us\"><img src=\"https://cdn.yellowpages.in/images/cadvt.png\" id=\"MainContent_imgAd\" /></a></div><div id=\"MainContent_divRev\" class=\"rightRecentReviews\" style=\"display:none;\"><div class=\"recentViewsBlock\"><h3 class=\"thirdHeading\">Recent Reviews</h3><ul id=\"MainContent_ulReviews\" class=\"recentReviewsList\"></ul></div></div><div class=\"rightSuggestBusiness\"><div class=\"haveBusiness\"><div class=\"haveBusinessAd\" style=\"background-image:url(https://cdn.yellowpages.in/images/cityDrawing.png);\">Didn\\'t find what you are looking for?\\r<div class=\"eachFormElement\"><br><a href=\"/addbusiness\" class=\"popupButton\">Suggest a business</a></div></div></div></div></aside></div></div><div class=\"popupNew\" id=\"deal\"><div class=\"popupOverlayNew\"></div><div class=\"popupMainBlock\"><div class=\"popupMainContent\"><div class=\"popupHeader\"><div class=\"popupTitle\">Get a deal</div><div class=\"popupClose\">Close</div></div><div class=\"popupContent\"><div class=\"popupFormBlock\"><div class=\"popupFormListBlock\"><ul class=\"popupFormList\"><li><div class=\"eachFormElement\"><input type=\"text\" class=\"popupFormTextBox ipDeal\" name=\"fullname\" id=\"fullname\" /><label for=\"\" class=\"popupFormLabel\">Please enter your name*</label></div></li><li><div class=\"eachFormElement phone\"><span class=\"number\">+91</span><input type=\"number\"   class=\"popupFormTextBox ipDeal\" maxlength=\"10\" id=\"mobile\" name=\"mobile\" /><label for=\"\" class=\"popupFormLabel\">Please enter your mobile number*</label></div></li><li><div class=\"eachFormElement\"><input type=\"email\" class=\"popupFormTextBox ipDeal\" id=\"email\" name=\"email\"/><label for=\"\" class=\"popupFormLabel\">Email*</label></div></li><li><div class=\"eachFormElement\"><textarea class=\"popupFormTextBox ipDeal\" rows=\"40\" style=\"height:100px;\" cols=\"30\" name=\"requirement\" id=\"requirement\"></textarea><label for=\"\" class=\"popupFormLabel\">Requirement*</label></div></li><li><div class=\"eachFormElement phone\"><input type=\"button\" class=\"popupButton\" id=\"getPrice\" value=\"Get me best price\"><input type=\"button\" class=\"cancelButton popupClose\" value=\"Cancel\"></div></li></ul></div></div></div></div></div></div><div class=\"container bredcrumBlock greyBg\"><div class=\"wrapper\"><div id=\"MainContent_divCrumb\" class=\"bredcrumNav\"><p id=\\'breadcrumbs\\'>You are here:<span xmlns:v=\\'http://rdf.data-vocabulary.org/#\\'> <span typeof=\\'v:Breadcrumb\\'> <a href=\\'/\\' rel=\\'v:url\\' property=\\'v:title\\'>Home /</a><span rel=\\'v:child\\' typeof=\\'v:Breadcrumb\\'><span class=\\'breadcrumb_last\\'>Stainless Steel Pipe Dealer in Hyderabad</span></span></span></span></p></div></div></div><input name=\"ctl00$MainContent$hdnUID\" type=\"hidden\" id=\"MainContent_hdnUID\" value=\"960366294\" /><input name=\"ctl00$MainContent$hdnLoc\" type=\"hidden\" id=\"MainContent_hdnLoc\" value=\"hyderabad\" /><input name=\"ctl00$MainContent$hdnCat\" type=\"hidden\" id=\"MainContent_hdnCat\" value=\"stainless-steel-pipe-dealer\" /><input name=\"ctl00$MainContent$hdnList\" type=\"hidden\" id=\"MainContent_hdnList\" value=\"13\" /><input name=\"ctl00$MainContent$navCt\" type=\"hidden\" id=\"MainContent_navCt\" value=\"1\" /><input name=\"ctl00$MainContent$bId\" type=\"hidden\" id=\"MainContent_bId\" class=\"bId\" /><input name=\"ctl00$MainContent$hdnVal\" type=\"hidden\" id=\"MainContent_hdnVal\" value=\"0\" /><input name=\"ctl00$MainContent$hdnItem\" type=\"hidden\" id=\"MainContent_hdnItem\" value=\"Stainless Steel Pipe Dealer\" /><input name=\"ctl00$MainContent$hdnArea\" type=\"hidden\" id=\"MainContent_hdnArea\" value=\"Hyderabad\" /><input type=\"hidden\" id=\"type\" value=\"cat\" /><input type=\"hidden\" id=\"upd\" /></div><div class=\"container footer\"><div class=\"wrapper\"><div class=\"footerNavBlocks mobHide\"><div class=\"mobileNavBlocks\"><div class=\"footerEachNavCol\"><h5 class=\"footerHeading\">Quick links</h5><ul class=\"footerNavList\"><li class=\"\"><a href=\"/\" class=\"mobHome\">Home</a></li><li><a class=\"mobCategories \" href=\"/categories\">Browse category</a></li><li><a href=\"#homeSearchBlock\" class=\"mobSearch\">Search business</a></li><li id=\"aLogin\"><a href=\"/login\" class=\"mobLogin\">Login to your account</a></li> </ul> </div><div class=\"footerEachNavCol businessMenu\"><h5 class=\"footerHeading ypFooterHeading\">Business</h5><ul class=\"footerNavList\"><li class=\"\"><a class=\"mobAddBusiness\" href=\"/addbusiness\">Add your business</a></li><li class=\"\"><a class=\"mobAdvertise\" href=\"/advertise-with-us\">Advertise with us</a></li></ul></div><div class=\"footerEachNavCol\"><h5 class=\"footerHeading ypFooterHeading\">Yellowpages</h5><ul class=\"footerNavList\"><li class=\"\"><a href=\"/about-us\" class=\"mobAboutUs\">About us</a></li><li class=\"\"><a href=\"/contact-us\" class=\"mobContactUs\">Contact us</a></li><li class=\"\"><a href=\"/feedback\" class=\"mobFeedback\">Feedback</a></li><li class=\"\"><a href=\"/faqs\" class=\"mobFaqs\">FAQs</a></li><li class=\"\"><a href=\"/careers\" class=\"mobCareers\">Careers</a></li><li class=\"\"><a href=\"/terms-conditions\" class=\"mobTermsConditions\">Terms &amp; Conditions</a></li><li class=\"\"><a href=\"/privacy-policy\" class=\"mobPrivacyPolicy\">Privacy Policy</a></li> </ul></div></div><div class=\"footerSocialMobile\"><div class=\"footerEachNavCol\"><h5 class=\"footerHeading\">Mobile &amp; Social</h5><div class=\"footerNavList\"><div class=\"footerSocialLinks\"><span class=\"footerSocialMobTitle\">Connect with us</span><a target=\"_blank\" href=\"https://www.facebook.com/Yellowpagesin-718593851493856/\" class=\"footFacebook\">Facebook</a><a target=\"_blank\" href=\"https://twitter.com/yellowpagesIn\" class=\"footTwitter\">Twitter</a><a target=\"_blank\" href=\"https://plus.google.com/101163049029744212701\" class=\"footGooglePlus\">Google Plus</a><a target=\"_blank\" href=\"https://www.youtube.com/channel/UCJgrR6mz-HpliQ7QmrNvBlA\" class=\"footYouTube\">You Tube</a></div></div></div></div></div></div></div><div class=\"container copyRights\"><div class=\"wrapper\">Copyright &copy; 2016, Yellowpages.in. All rights reserved.</div></div><link href=\\'https://fonts.googleapis.com/css?family=Source+Sans+Pro:400,600,700,300\\' rel=\\'stylesheet\\' type=\\'text/css\\'><div class=\"popupNew\" id=\"login\"><div class=\"popupOverlayNew\"></div><div class=\"popupMainBlock\"><div class=\"popupMainContent\"><div class=\"popupHeader\"><div class=\"popupTitle\">Login or Register to proceed</div><div class=\"popupClose\">Close</div></div><div class=\"popupContent\"><div id=\"msg\" style=\"color:red;margin-bottom:20px;\"></div> <div class=\"popupFormBlock\"><div class=\"loginSocialBlock\"><div class=\"loginFormBlock\"><ul class=\"popupFormList\"><li><div class=\"eachFormElement\"><input type=\"text\" id=\"ipEmail\" class=\"popupFormTextBox\" value=\"\" /><label for=\"\" class=\"popupFormLabel\">Enter Email ID or Mobile number*</label></div></li><li><div class=\"eachFormElement\"><input type=\"password\" class=\"popupFormTextBox\" id=\"ipPwd\" value=\"\" /><label for=\"\" class=\"popupFormLabel\">Enter Password</label></div></li><li><div class=\"eachFormElement phone\"><input type=\"button\" class=\"popupButton\" id=\"btnLogin\" value=\"Login\" /><input type=\"button\" class=\"popupButton\" id=\"btnReview\" style=\"display:none\" value=\"Login\" /><input type=\"button\" class=\"cancelButton popupClose\" value=\"Close\" /></div></li></ul></div><div class=\"socialLoginBlock\"><div class=\"orBlock\">OR</div><div class=\"socialLogins\"><input type=\"submit\" name=\"ctl00$btnFB\" value=\".\" id=\"btnFB\" style=\"background: url(/images/common.png);background-position: 0 -1579px;border: 0px;margin-left: 20px;width: 250px;height: 48px;\" /></div></div><div class=\"registrationInfo\">New to YellowPages. <span class=\"regBtn\">Register now</span> to get benefits.</div></div><div class=\"registrationBlock hideForm\"><div class=\"loginFormBlock\"><ul class=\"popupFormList\"><li class=\"popupFormTwoCols\"><div class=\"eachFormElement\"><input type=\"text\" class=\"popupFormTextBox\" id=\"fname\" /><label for=\"\" class=\"popupFormLabel\">First name*</label></div><div class=\"eachFormElement\" style=\"margin-left:11px;\"><input type=\"text\" class=\"popupFormTextBox\" id=\"lname\" /><label for=\"\" class=\"popupFormLabel\">Last name*</label></div></li><li><div class=\"eachFormElement\"><input type=\"email\" class=\"popupFormTextBox\" id=\"email\" /><label for=\"\" class=\"popupFormLabel\">Enter Email ID*</label></div></li><li><div class=\"eachFormElement password\"><input type=\"password\" class=\"popupFormTextBox\" id=\"rpassword\" /><label for=\"\" class=\"popupFormLabel\">Enter Password</label><div class=\"showPassword\">SHOW</div></div></li><li><div class=\"eachFormElement phone\"><input type=\"button\" class=\"popupButton\" id=\"register\" value=\"Register Now\" /> </div></li></ul></div><div class=\"registrationInfo\">Already a member. <span class=\"logBtn\">Login here</span>.</div></div><div class=\"activationBlock hideForm\" style=\"display:none\"><div class=\"loginFormBlock\"><ul class=\"popupFormList\"><li><div class=\"eachFormElement\"><input type=\"email\" class=\"popupFormTextBox\" id=\"code\" /><label for=\"\" class=\"popupFormLabel\">Enter verification code sent to your email*</label></div></li> <li><div class=\"eachFormElement phone\"><input type=\"button\" class=\"popupButton\" id=\"activate\" value=\"Confirm\" /><input type=\"button\" class=\"popupButton\" id=\"rActivate\" value=\"Confirm\" /> </div></li></ul></div><div class=\"registrationInfo\">Already a member. <span class=\"logBtn\">Login here</span>.</div></div></div></div></div></div></div><script src=\\'/js/v4/popupjs.js\\'></script><script>(function (i, s, o, g, r, a, m) {\\ri[\\'GoogleAnalyticsObject\\'] = r; i[r] = i[r] || function () {\\r(i[r].q = i[r].q || []).push(arguments)\\r}, i[r].l = 1 * new Date(); a = s.createElement(o),\\rm = s.getElementsByTagName(o)[0]; a.async = 1; a.src = g; m.parentNode.insertBefore(a, m)\\r})(window, document, \\'script\\', \\'https://www.google-analytics.com/analytics.js\\', \\'ga\\');\\rga(\\'create\\', \\'UA-72946436-1\\', \\'auto\\');\\rga(\\'send\\', \\'pageview\\');</script><input type=\"hidden\" id=\"conVal\"/><input name=\"ctl00$lct\" type=\"hidden\" id=\"lct\" value=\"Hyderabad\" /><div class=\"aspNetHidden\"><input type=\"hidden\" name=\"__VIEWSTATEGENERATOR\" id=\"__VIEWSTATEGENERATOR\" value=\"A0DDA87A\" /><input type=\"hidden\" name=\"__EVENTVALIDATION\" id=\"__EVENTVALIDATION\" value=\"/wEdAA3y/tLtwanzynYX1PfE5P4+/RAwBa1DeQHPnW2PjXE8mQaeZOYT6iHw8goC9wgvp+q6JdKub2i6OmZahphR1wxvNIIirrnZ/CGCvUD3POsnd0+XyIIxvVE3L2bBRqdNYKnYRa88+D1PuWHZojfpCxy9Ba//xX/PvuNmyik5N6bPJiwFQdYcqh3AtjHkLwnxW4qm9exkmy6bX93QBx716ydAfHbe1ozRkpAtCSyeUlqF9eckbg68tMZqGYm4etHRKOdnfgqj2A58SVP7DtkJx9m6nbcnaQSzH662Yu+xgywttA+ei4REhk2Uhe75wXflpSE=\" /></div></form></body></html>'"
      ]
     },
     "execution_count": 7,
     "metadata": {},
     "output_type": "execute_result"
    }
   ],
   "source": [
    "url2 = 'http://yellowpages.in/hyderabad/stainless-steel-pipe-dealer/960366294'\n",
    "response2 = requests.get(url2)\n",
    "data2 = response2.content\n",
    "data2"
   ]
  },
  {
   "cell_type": "code",
   "execution_count": 30,
   "metadata": {},
   "outputs": [
    {
     "data": {
      "text/plain": [
       "[<div class=\"popularTitleTextBlock\"><a class=\"eachPopularTitle hasOtherInfo\" href=\"/b/ak-steels-saroor-nagar-hyderabad/269521408\">AK Steels</a><div class=\"eachPopularOtherActions\"><span class=\"yp\"></span><span class=\"certified aaP\"></span></div></div>,\n",
       " <div class=\"popularTitleTextBlock\"><a class=\"eachPopularTitle hasOtherInfo\" href=\"/b/maruti-commercial-corporation-ranigunj-hyderabad/544210319\">Maruti Commercial Corporation</a><div class=\"eachPopularOtherActions\"><span class=\"ypApproved\"></span><span class=\"certified aaP\"></span></div></div>,\n",
       " <div class=\"popularTitleTextBlock\"><a class=\"eachPopularTitle hasOtherInfo\" href=\"/b/general-industrial-suppliers-secunderabad-hyderabad/196548791\">General Industrial Suppliers</a><div class=\"eachPopularOtherActions\"><span class=\"ypApproved\"></span><span class=\"certified aaP\"></span></div></div>,\n",
       " <div class=\"popularTitleTextBlock\"><a class=\"eachPopularTitle hasOtherInfo\" href=\"/b/jagadamba-steel-fathe-nagar-hyderabad/154467996\">Jagadamba Steel</a><div class=\"eachPopularOtherActions\"><span class=\"ypApproved\"></span><span class=\"certified aaP\"></span></div></div>,\n",
       " <div class=\"popularTitleTextBlock\"><a class=\"eachPopularTitle hasOtherInfo\" href=\"/b/inderson-pipes-and-tubes-fathe-nagar-hyderabad/279977130\">Inderson Pipes &amp; Tubes</a><div class=\"eachPopularOtherActions\"><span class=\"ypApproved\"></span><span class=\"certified aaP\"></span></div></div>,\n",
       " <div class=\"popularTitleTextBlock\"><a class=\"eachPopularTitle hasOtherInfo\" href=\"/b/srinath-steel-india-bala-nagar-hyderabad/976549251\">Srinath Steel India</a><div class=\"eachPopularOtherActions\"><span class=\"ypApproved\"></span><span class=\"certified aaP\"></span></div></div>,\n",
       " <div class=\"popularTitleTextBlock\"><a class=\"eachPopularTitle hasOtherInfo\" href=\"/b/rasika-metals-stockists-ranigunj-hyderabad/921174198\">Rasika Metals Stockists</a><div class=\"eachPopularOtherActions\"><span class=\"ypApproved\"></span><span class=\"certified aaP\"></span></div></div>,\n",
       " <div class=\"popularTitleTextBlock\"><a class=\"eachPopularTitle hasOtherInfo\" href=\"/b/suraj-metal-corporation-ranigunj-hyderabad/302426391\">Suraj Metal Corporation</a><div class=\"eachPopularOtherActions\"><span class=\"ypApproved\"></span><span class=\"certified aaP\"></span></div></div>,\n",
       " <div class=\"popularTitleTextBlock\"><a class=\"eachPopularTitle hasOtherInfo\" href=\"/b/shah-enterprises-secunderabad-hyderabad/500869779\">Shah Enterprises</a><div class=\"eachPopularOtherActions\"><span class=\"ypApproved\"></span><span class=\"certified aaP\"></span></div></div>,\n",
       " <div class=\"popularTitleTextBlock\"><a class=\"eachPopularTitle hasOtherInfo\" href=\"/b/greenstar-impex-private-limited-secunderabad-hyderabad/971701410\">Greenstar Impex Private Limited</a><div class=\"eachPopularOtherActions\"><span class=\"ypApproved\"></span><span class=\"certified aaP\"></span></div></div>,\n",
       " <div class=\"popularTitleTextBlock\"><a class=\"eachPopularTitle hasOtherInfo\" href=\"/b/rahul-tube-industries-ranigunj-hyderabad/484007652\">Rahul Tube Industries</a><div class=\"eachPopularOtherActions\"><span class=\"ypApproved\"></span><span class=\"certified aaP\"></span></div></div>,\n",
       " <div class=\"popularTitleTextBlock\"><a class=\"eachPopularTitle hasOtherInfo\" href=\"/b/jay-shree-steel-fathe-nagar-hyderabad/428296705\">Jay Shree Steel</a><div class=\"eachPopularOtherActions\"><span class=\"ypApproved\"></span><span class=\"certified aaP\"></span></div></div>,\n",
       " <div class=\"popularTitleTextBlock\"><a class=\"eachPopularTitle hasOtherInfo\" href=\"/b/vikram-metal-india-fathe-nagar-hyderabad/582433969\">Vikram Metal (India)</a><div class=\"eachPopularOtherActions\"><span class=\"ypApproved\"></span><span class=\"certified aaP\"></span></div></div>]"
      ]
     },
     "execution_count": 30,
     "metadata": {},
     "output_type": "execute_result"
    }
   ],
   "source": [
    "soup2 = BeautifulSoup(data2)\n",
    "\n",
    "popular_content = soup2.find_all('div',class_='popularTitleTextBlock')\n",
    "popular_content"
   ]
  },
  {
   "cell_type": "code",
   "execution_count": 35,
   "metadata": {},
   "outputs": [
    {
     "data": {
      "text/plain": [
       "[<div class=\"eachPopular\"><div class=\"eachPopularLeft\"><div class=\"eachPopularImage\"><a href=\"/b/ak-steels-saroor-nagar-hyderabad/269521408\"><img alt=\"\" height=\"170\" src=\"http://www.yellowpages.in/assets/business/t_default.png\" width=\"170\"/></a></div><div class=\"eachPopularTitleBlock\"><div class=\"popularTitleTextBlock\"><a class=\"eachPopularTitle hasOtherInfo\" href=\"/b/ak-steels-saroor-nagar-hyderabad/269521408\">AK Steels</a><div class=\"eachPopularOtherActions\"><span class=\"yp\"></span><span class=\"certified aaP\"></span></div></div><div class=\"eachPopularRatingBlock\"><span class=\"rating r0-0\"></span><a class=\"ratingCount\" style=\"text-decoration:none;cursor:default\">0 reviews</a></div><div class=\"openNow\"><strong>Open</strong> - until 9:00PM</div><div class=\"eachPopularLink\"></div></div></div><div class=\"eachPopularRight\"><div class=\"addFav\" id=\"b269521408\" onclick=\"setFav(this)\"></div><a class=\"businessContact\" href=\"tel:9440192685\">+91 9440192685</a><address class=\"businessArea\"><strong>Saroor Nagar</strong> Hyderabad - 500035</address> <div class=\"directionsLocationsBlock\"><a href=\"http://www.google.com/maps/place/17.3526,78.5341\" rel=\"nofollow\" target=\"_blank\">Directions</a></div></div></div>,\n",
       " <div class=\"eachPopular\"><div class=\"eachPopularLeft\"><div class=\"eachPopularImage\"><a href=\"/b/maruti-commercial-corporation-ranigunj-hyderabad/544210319\"><img alt=\"\" height=\"170\" src=\"http://www.yellowpages.in/assets/business/979138275/f-979138275-t.jpg\" width=\"170\"/></a></div><div class=\"eachPopularTitleBlock\"><div class=\"popularTitleTextBlock\"><a class=\"eachPopularTitle hasOtherInfo\" href=\"/b/maruti-commercial-corporation-ranigunj-hyderabad/544210319\">Maruti Commercial Corporation</a><div class=\"eachPopularOtherActions\"><span class=\"ypApproved\"></span><span class=\"certified aaP\"></span></div></div><div class=\"eachPopularRatingBlock\"><span class=\"rating r0-0\"></span><a class=\"ratingCount\" style=\"text-decoration:none;cursor:default\">0 reviews</a></div><div class=\"openNow\"><strong>Open</strong> - until 7:00PM</div><ul class=\"eachPopularTagsList\"> <li><a href=\"/hyderabad/gi-pipe-dealer/853838529\">GI Pipe Dealer</a></li>, <li><a href=\"/hyderabad/ms-pipe-dealer/843360533\">MS Pipe Dealer</a></li>, <li><a href=\"/hyderabad/pipe-dealers/586572067\">Pipe Dealers</a></li></ul><div class=\"eachPopularLink\"><a href=\"mailto:mcc_pipes@hotmail.com\" target=\"_blank\">Email</a></div></div></div><div class=\"eachPopularRight\"><div class=\"addFav\" id=\"b544210319\" onclick=\"setFav(this)\"></div><a class=\"businessContact\" href=\"tel:40 66312319\">+91 40 66312319</a><address class=\"businessArea\"><strong>Ranigunj</strong> Hyderabad - 500003</address> <div class=\"directionsLocationsBlock\"><a href=\"http://www.google.com/maps/place/17.4326,78.4908\" rel=\"nofollow\" target=\"_blank\">Directions</a></div></div></div>,\n",
       " <div class=\"eachPopular\"><div class=\"eachPopularLeft\"><div class=\"eachPopularImage\"><a href=\"/b/general-industrial-suppliers-secunderabad-hyderabad/196548791\"><img alt=\"\" height=\"170\" src=\"http://www.yellowpages.in/assets/business/782817814/f-782817814-t.jpg\" width=\"170\"/></a></div><div class=\"eachPopularTitleBlock\"><div class=\"popularTitleTextBlock\"><a class=\"eachPopularTitle hasOtherInfo\" href=\"/b/general-industrial-suppliers-secunderabad-hyderabad/196548791\">General Industrial Suppliers</a><div class=\"eachPopularOtherActions\"><span class=\"ypApproved\"></span><span class=\"certified aaP\"></span></div></div><div class=\"eachPopularRatingBlock\"><span class=\"rating r0-0\"></span><a class=\"ratingCount\" style=\"text-decoration:none;cursor:default\">0 reviews</a></div><div class=\"openNow\"><strong>Open</strong> - until 8:00PM</div><ul class=\"eachPopularTagsList\"> <li><a href=\"/hyderabad/hardware-tools/878624110\">Hardware Tools</a></li>, <li><a href=\"/hyderabad/pipe-dealers/586572067\">Pipe Dealers</a></li>, <li><a href=\"/hyderabad/power-tools-dealers/612820858\">Power Tools Dealers</a></li></ul><div class=\"eachPopularLink\"><a href=\"mailto:general_id_sup@yahoo.in\" target=\"_blank\">Email</a></div></div></div><div class=\"eachPopularRight\"><div class=\"addFav\" id=\"b196548791\" onclick=\"setFav(this)\"></div><a class=\"businessContact\" href=\"tel:9247180452\">+91 9247180452</a><address class=\"businessArea\"><strong>Secunderabad</strong> Hyderabad - 500003</address> <div class=\"directionsLocationsBlock\"><a href=\"http://www.google.com/maps/place/17.4399,78.4983\" rel=\"nofollow\" target=\"_blank\">Directions</a></div></div></div>,\n",
       " <div class=\"eachPopular\"><div class=\"eachPopularLeft\"><div class=\"eachPopularImage\"><a href=\"/b/jagadamba-steel-fathe-nagar-hyderabad/154467996\"><img alt=\"\" height=\"170\" src=\"http://www.yellowpages.in/assets/business/329040404/f-329040404-t.jpg\" width=\"170\"/></a></div><div class=\"eachPopularTitleBlock\"><div class=\"popularTitleTextBlock\"><a class=\"eachPopularTitle hasOtherInfo\" href=\"/b/jagadamba-steel-fathe-nagar-hyderabad/154467996\">Jagadamba Steel</a><div class=\"eachPopularOtherActions\"><span class=\"ypApproved\"></span><span class=\"certified aaP\"></span></div></div><div class=\"eachPopularRatingBlock\"><span class=\"rating r0-0\"></span><a class=\"ratingCount\" style=\"text-decoration:none;cursor:default\">0 reviews</a></div><div class=\"openNow\"><strong>Open</strong> - until 7:00PM</div><ul class=\"eachPopularTagsList\"> <li><a href=\"/hyderabad/pipe-dealers/586572067\">Pipe Dealers</a></li>, <li><a href=\"/hyderabad/railings/360420241\">Railings</a></li></ul><div class=\"eachPopularLink\"></div></div></div><div class=\"eachPopularRight\"><div class=\"addFav\" id=\"b154467996\" onclick=\"setFav(this)\"></div><a class=\"businessContact\" href=\"tel:9533275221\">+91 9533275221</a><address class=\"businessArea\"><strong>Fathe Nagar</strong> Hyderabad - 500018</address> <div class=\"directionsLocationsBlock\"><a href=\"http://www.google.com/maps/place/17.4573,78.4517\" rel=\"nofollow\" target=\"_blank\">Directions</a></div></div></div>,\n",
       " <div class=\"eachPopular\"><div class=\"eachPopularLeft\"><div class=\"eachPopularImage\"><a href=\"/b/inderson-pipes-and-tubes-fathe-nagar-hyderabad/279977130\"><img alt=\"\" height=\"170\" src=\"http://www.yellowpages.in/assets/business/341332115/f-341332115-t.jpg\" width=\"170\"/></a></div><div class=\"eachPopularTitleBlock\"><div class=\"popularTitleTextBlock\"><a class=\"eachPopularTitle hasOtherInfo\" href=\"/b/inderson-pipes-and-tubes-fathe-nagar-hyderabad/279977130\">Inderson Pipes &amp; Tubes</a><div class=\"eachPopularOtherActions\"><span class=\"ypApproved\"></span><span class=\"certified aaP\"></span></div></div><div class=\"eachPopularRatingBlock\"><span class=\"rating r0-0\"></span><a class=\"ratingCount\" style=\"text-decoration:none;cursor:default\">0 reviews</a></div><div class=\"openNow\"><strong>Open</strong> - until 9:30PM</div><ul class=\"eachPopularTagsList\"> <li><a href=\"/hyderabad/gi-pipe-dealer/853838529\">GI Pipe Dealer</a></li>, <li><a href=\"/hyderabad/ms-pipe-dealer/843360533\">MS Pipe Dealer</a></li></ul><div class=\"eachPopularLink\"></div></div></div><div class=\"eachPopularRight\"><div class=\"addFav\" id=\"b279977130\" onclick=\"setFav(this)\"></div><a class=\"businessContact\" href=\"tel:9246877986\">+91 9246877986</a><address class=\"businessArea\"><strong>Fathe Nagar</strong> Hyderabad - 500018</address> <div class=\"directionsLocationsBlock\"><a href=\"http://www.google.com/maps/place/17.4573,78.4517\" rel=\"nofollow\" target=\"_blank\">Directions</a></div></div></div>,\n",
       " <div class=\"eachPopular\"><div class=\"eachPopularLeft\"><div class=\"eachPopularImage\"><a href=\"/b/srinath-steel-india-bala-nagar-hyderabad/976549251\"><img alt=\"\" height=\"170\" src=\"http://www.yellowpages.in/assets/business/800796279/f-800796279-t.jpg\" width=\"170\"/></a></div><div class=\"eachPopularTitleBlock\"><div class=\"popularTitleTextBlock\"><a class=\"eachPopularTitle hasOtherInfo\" href=\"/b/srinath-steel-india-bala-nagar-hyderabad/976549251\">Srinath Steel India</a><div class=\"eachPopularOtherActions\"><span class=\"ypApproved\"></span><span class=\"certified aaP\"></span></div></div><div class=\"eachPopularRatingBlock\"><span class=\"rating r0-0\"></span><a class=\"ratingCount\" style=\"text-decoration:none;cursor:default\">0 reviews</a></div><div class=\"openNow\"><strong>Open</strong> - until 8:00PM</div><ul class=\"eachPopularTagsList\"> <li><a href=\"/hyderabad/alloy,-iron-and-steel-industries/677293761\">Alloy, Iron &amp; Steel Industries<!--, <li--><a href=\"/hyderabad/steel-wires-and-ropes-manufacturers/486333455\">Steel Wires &amp; Ropes Manufactu, <li><a href=\"/hyderabad/tmt-iron-and-steel-bars/421572737\">Tmt Iron &amp; Steel Bars</a></li></a></a></li></ul><div class=\"eachPopularLink\"></div></div></div><div class=\"eachPopularRight\"><div class=\"addFav\" id=\"b976549251\" onclick=\"setFav(this)\"></div><a class=\"businessContact\" href=\"tel:9390030433\">+91 9390030433</a><address class=\"businessArea\"><strong>Bala Nagar</strong> Hyderabad - 500037</address> <div class=\"directionsLocationsBlock\"><a href=\"http://www.google.com/maps/place/17.465,78.451\" rel=\"nofollow\" target=\"_blank\">Directions</a></div></div></div>,\n",
       " <div class=\"eachPopular\"><div class=\"eachPopularLeft\"><div class=\"eachPopularImage\"><a href=\"/b/rasika-metals-stockists-ranigunj-hyderabad/921174198\"><img alt=\"\" height=\"170\" src=\"http://www.yellowpages.in/assets/business/548036611/f-548036611-t.jpg\" width=\"170\"/></a></div><div class=\"eachPopularTitleBlock\"><div class=\"popularTitleTextBlock\"><a class=\"eachPopularTitle hasOtherInfo\" href=\"/b/rasika-metals-stockists-ranigunj-hyderabad/921174198\">Rasika Metals Stockists</a><div class=\"eachPopularOtherActions\"><span class=\"ypApproved\"></span><span class=\"certified aaP\"></span></div></div><div class=\"eachPopularRatingBlock\"><span class=\"rating r0-0\"></span><a class=\"ratingCount\" style=\"text-decoration:none;cursor:default\">0 reviews</a></div><div class=\"openNow\"><strong>Open</strong> - until 7:00PM</div><ul class=\"eachPopularTagsList\"> <li><a href=\"/hyderabad/alloy,-iron-and-steel-industries/677293761\">Alloy, Iron &amp; Steel Industries<!--, <li--><a href=\"/hyderabad/aluminium-extrusion-industry/234219646\">Aluminium Extrusion Industry</a><a href=\"/hyderabad/gi-pipe-dealer/853838529\">GI Pipe Dealer</a></a></li></ul><div class=\"eachPopularLink\"><a href=\"mailto:rasikmetal@gmail.com\" target=\"_blank\">Email</a></div></div></div><div class=\"eachPopularRight\"><div class=\"addFav\" id=\"b921174198\" onclick=\"setFav(this)\"></div><a class=\"businessContact\" href=\"tel:9848272478\">+91 9848272478</a><address class=\"businessArea\"><strong>Ranigunj</strong> Hyderabad - 500003</address> <div class=\"directionsLocationsBlock\"><a href=\"http://www.google.com/maps/place/17.4326,78.4908\" rel=\"nofollow\" target=\"_blank\">Directions</a></div></div></div>,\n",
       " <div class=\"eachPopular\"><div class=\"eachPopularLeft\"><div class=\"eachPopularImage\"><a href=\"/b/suraj-metal-corporation-ranigunj-hyderabad/302426391\"><img alt=\"\" height=\"170\" src=\"http://www.yellowpages.in/assets/business/t_default.png\" width=\"170\"/></a></div><div class=\"eachPopularTitleBlock\"><div class=\"popularTitleTextBlock\"><a class=\"eachPopularTitle hasOtherInfo\" href=\"/b/suraj-metal-corporation-ranigunj-hyderabad/302426391\">Suraj Metal Corporation</a><div class=\"eachPopularOtherActions\"><span class=\"ypApproved\"></span><span class=\"certified aaP\"></span></div></div><div class=\"eachPopularRatingBlock\"><span class=\"rating r0-0\"></span><a class=\"ratingCount\" style=\"text-decoration:none;cursor:default\">0 reviews</a></div><div class=\"openNow\"><strong>Open</strong> - until 9:30PM</div><ul class=\"eachPopularTagsList\"> <li><a href=\"/hyderabad/alloy,-iron-and-steel-industries/677293761\">Alloy, Iron &amp; Steel Industries<!--, <li--><a href=\"/hyderabad/ms-pipe-dealer/843360533\">MS Pipe Dealer</a></a></li>, <li><a href=\"/hyderabad/pipe-dealers/586572067\">Pipe Dealers</a></li></ul><div class=\"eachPopularLink\"><a href=\"mailto:surajmetalcorporation@gmail.com\" target=\"_blank\">Email</a></div></div></div><div class=\"eachPopularRight\"><div class=\"addFav\" id=\"b302426391\" onclick=\"setFav(this)\"></div><a class=\"businessContact\" href=\"tel:9440054782\">+91 9440054782</a><address class=\"businessArea\"><strong>Ranigunj</strong> Hyderabad - 500003</address> <div class=\"directionsLocationsBlock\"><a href=\"http://www.google.com/maps/place/17.4326,78.4908\" rel=\"nofollow\" target=\"_blank\">Directions</a></div></div></div>,\n",
       " <div class=\"eachPopular\"><div class=\"eachPopularLeft\"><div class=\"eachPopularImage\"><a href=\"/b/shah-enterprises-secunderabad-hyderabad/500869779\"><img alt=\"\" height=\"170\" src=\"http://www.yellowpages.in/assets/business/180084218/f-180084218-t.jpg\" width=\"170\"/></a></div><div class=\"eachPopularTitleBlock\"><div class=\"popularTitleTextBlock\"><a class=\"eachPopularTitle hasOtherInfo\" href=\"/b/shah-enterprises-secunderabad-hyderabad/500869779\">Shah Enterprises</a><div class=\"eachPopularOtherActions\"><span class=\"ypApproved\"></span><span class=\"certified aaP\"></span></div></div><div class=\"eachPopularRatingBlock\"><span class=\"rating r0-0\"></span><a class=\"ratingCount\" style=\"text-decoration:none;cursor:default\">0 reviews</a></div><div class=\"openNow\"><strong>Open</strong> - until 7:00PM</div><ul class=\"eachPopularTagsList\"> <li><a href=\"/hyderabad/general-order-suppliers/634718718\">General order suppliers</a></li>, <li><a href=\"/hyderabad/pipe-dealers/586572067\">Pipe Dealers</a></li></ul><div class=\"eachPopularLink\"><a href=\"mailto:pratikshah097@gmail.com\" target=\"_blank\">Email</a></div></div></div><div class=\"eachPopularRight\"><div class=\"addFav\" id=\"b500869779\" onclick=\"setFav(this)\"></div><a class=\"businessContact\" href=\"tel:9849387287\">+91 9849387287</a><address class=\"businessArea\"><strong>Secunderabad</strong> Hyderabad - 500003</address> <div class=\"directionsLocationsBlock\"><a href=\"http://www.google.com/maps/place/17.4326,78.4908\" rel=\"nofollow\" target=\"_blank\">Directions</a></div></div></div>,\n",
       " <div class=\"eachPopular\"><div class=\"eachPopularLeft\"><div class=\"eachPopularImage\"><a href=\"/b/greenstar-impex-private-limited-secunderabad-hyderabad/971701410\"><img alt=\"\" height=\"170\" src=\"http://www.yellowpages.in/assets/business/t_default.png\" width=\"170\"/></a></div><div class=\"eachPopularTitleBlock\"><div class=\"popularTitleTextBlock\"><a class=\"eachPopularTitle hasOtherInfo\" href=\"/b/greenstar-impex-private-limited-secunderabad-hyderabad/971701410\">Greenstar Impex Private Limited</a><div class=\"eachPopularOtherActions\"><span class=\"ypApproved\"></span><span class=\"certified aaP\"></span></div></div><div class=\"eachPopularRatingBlock\"><span class=\"rating r0-0\"></span><a class=\"ratingCount\" style=\"text-decoration:none;cursor:default\">0 reviews</a></div><div class=\"openNow\"><strong>Open</strong> - until 7:00PM</div><ul class=\"eachPopularTagsList\"> <li><a href=\"/hyderabad/alloy,-iron-and-steel-industries/677293761\">Alloy, Iron &amp; Steel Industries<!--, <li--><a href=\"/hyderabad/pipe-dealers/586572067\">Pipe Dealers</a></a></li></ul><div class=\"eachPopularLink\"><a href=\"mailto:info@greenstarimp.com\" target=\"_blank\">Email</a></div></div></div><div class=\"eachPopularRight\"><div class=\"addFav\" id=\"b971701410\" onclick=\"setFav(this)\"></div><a class=\"businessContact\" href=\"tel:40 27806203\">+91 40 27806203</a><address class=\"businessArea\"><strong>Secunderabad</strong> Hyderabad - 500003</address> <div class=\"directionsLocationsBlock\"><a href=\"http://www.google.com/maps/place/17.449568,78.506447\" rel=\"nofollow\" target=\"_blank\">Directions</a></div></div></div>,\n",
       " <div class=\"eachPopular\"><div class=\"eachPopularLeft\"><div class=\"eachPopularImage\"><a href=\"/b/rahul-tube-industries-ranigunj-hyderabad/484007652\"><img alt=\"\" height=\"170\" src=\"http://www.yellowpages.in/assets/business/828062507/f-828062507-t.jpg\" width=\"170\"/></a></div><div class=\"eachPopularTitleBlock\"><div class=\"popularTitleTextBlock\"><a class=\"eachPopularTitle hasOtherInfo\" href=\"/b/rahul-tube-industries-ranigunj-hyderabad/484007652\">Rahul Tube Industries</a><div class=\"eachPopularOtherActions\"><span class=\"ypApproved\"></span><span class=\"certified aaP\"></span></div></div><div class=\"eachPopularRatingBlock\"><span class=\"rating r0-0\"></span><a class=\"ratingCount\" style=\"text-decoration:none;cursor:default\">0 reviews</a></div><div class=\"openNow\"><strong>Open</strong> - until 8:00PM</div><ul class=\"eachPopularTagsList\"> <li><a href=\"/hyderabad/pipe-dealers/586572067\">Pipe Dealers</a></li>, <li><a href=\"/hyderabad/railings/360420241\">Railings</a></li></ul><div class=\"eachPopularLink\"><a href=\"mailto:rahultubeindustries@gmail.com\" target=\"_blank\">Email</a></div></div></div><div class=\"eachPopularRight\"><div class=\"addFav\" id=\"b484007652\" onclick=\"setFav(this)\"></div><a class=\"businessContact\" href=\"tel:9160547694\">+91 9160547694</a><address class=\"businessArea\"><strong>Ranigunj</strong> Hyderabad - 500003</address> <div class=\"directionsLocationsBlock\"><a href=\"http://www.google.com/maps/place/17.4326,78.4908\" rel=\"nofollow\" target=\"_blank\">Directions</a></div></div></div>,\n",
       " <div class=\"eachPopular\"><div class=\"eachPopularLeft\"><div class=\"eachPopularImage\"><a href=\"/b/jay-shree-steel-fathe-nagar-hyderabad/428296705\"><img alt=\"\" height=\"170\" src=\"http://www.yellowpages.in/assets/business/133834393/f-133834393-t.jpg\" width=\"170\"/></a></div><div class=\"eachPopularTitleBlock\"><div class=\"popularTitleTextBlock\"><a class=\"eachPopularTitle hasOtherInfo\" href=\"/b/jay-shree-steel-fathe-nagar-hyderabad/428296705\">Jay Shree Steel</a><div class=\"eachPopularOtherActions\"><span class=\"ypApproved\"></span><span class=\"certified aaP\"></span></div></div><div class=\"eachPopularRatingBlock\"><span class=\"rating r0-0\"></span><a class=\"ratingCount\" style=\"text-decoration:none;cursor:default\">0 reviews</a></div><div class=\"openNow\"><strong>Open</strong> - until 8:00PM</div><ul class=\"eachPopularTagsList\"> <li><a href=\"/hyderabad/alloy,-iron-and-steel-industries/677293761\">Alloy, Iron &amp; Steel Industries<!--, <li--><a href=\"/hyderabad/tmt-iron-and-steel-bars/421572737\">Tmt Iron &amp; Steel Bars</a></a></li></ul><div class=\"eachPopularLink\"><a href=\"mailto:jaishreesteel2016@gmail.com\" target=\"_blank\">Email</a></div></div></div><div class=\"eachPopularRight\"><div class=\"addFav\" id=\"b428296705\" onclick=\"setFav(this)\"></div><a class=\"businessContact\" href=\"tel:9000971004\">+91 9000971004</a><address class=\"businessArea\"><strong>Fathe Nagar</strong> Hyderabad - 500018</address> <div class=\"directionsLocationsBlock\"><a href=\"http://www.google.com/maps/place/17.4573,78.4517\" rel=\"nofollow\" target=\"_blank\">Directions</a></div></div></div>,\n",
       " <div class=\"eachPopular\"><div class=\"eachPopularLeft\"><div class=\"eachPopularImage\"><a href=\"/b/vikram-metal-india-fathe-nagar-hyderabad/582433969\"><img alt=\"\" height=\"170\" src=\"http://www.yellowpages.in/assets/business/654283201/f-654283201-t.jpg\" width=\"170\"/></a></div><div class=\"eachPopularTitleBlock\"><div class=\"popularTitleTextBlock\"><a class=\"eachPopularTitle hasOtherInfo\" href=\"/b/vikram-metal-india-fathe-nagar-hyderabad/582433969\">Vikram Metal (India)</a><div class=\"eachPopularOtherActions\"><span class=\"ypApproved\"></span><span class=\"certified aaP\"></span></div></div><div class=\"eachPopularRatingBlock\"><span class=\"rating r0-0\"></span><a class=\"ratingCount\" style=\"text-decoration:none;cursor:default\">0 reviews</a></div><div class=\"openNow\"><strong>Open</strong> - until 8:00PM</div><ul class=\"eachPopularTagsList\"> <li><a href=\"/hyderabad/alloy,-iron-and-steel-industries/677293761\">Alloy, Iron &amp; Steel Industries<!--, <li--><a href=\"/hyderabad/general-order-suppliers/634718718\">General order suppliers</a></a></li>, <li><a href=\"/hyderabad/gi-pipe-dealer/853838529\">GI Pipe Dealer</a></li></ul><div class=\"eachPopularLink\"><a href=\"mailto:vikrammetalindia.314@gmail.com\" target=\"_blank\">Email</a></div></div></div><div class=\"eachPopularRight\"><div class=\"addFav\" id=\"b582433969\" onclick=\"setFav(this)\"></div><a class=\"businessContact\" href=\"tel:9959985314\">+91 9959985314</a><address class=\"businessArea\"><strong>Fathe Nagar</strong> Hyderabad - 500018</address> <div class=\"directionsLocationsBlock\"><a href=\"http://www.google.com/maps/place/17.4573,78.4517\" rel=\"nofollow\" target=\"_blank\">Directions</a></div></div></div>]"
      ]
     },
     "execution_count": 35,
     "metadata": {},
     "output_type": "execute_result"
    }
   ],
   "source": [
    "#eachPopular\n",
    "soup2 = BeautifulSoup(data2)\n",
    "\n",
    "popular_content = soup2.find_all('div',class_='eachPopular')\n",
    "popular_content"
   ]
  },
  {
   "cell_type": "code",
   "execution_count": 74,
   "metadata": {},
   "outputs": [
    {
     "data": {
      "text/plain": [
       "<div class=\"eachPopular\"><div class=\"eachPopularLeft\"><div class=\"eachPopularImage\"><a href=\"/b/ak-steels-saroor-nagar-hyderabad/269521408\"><img alt=\"\" height=\"170\" src=\"http://www.yellowpages.in/assets/business/t_default.png\" width=\"170\"/></a></div><div class=\"eachPopularTitleBlock\"><div class=\"popularTitleTextBlock\"><a class=\"eachPopularTitle hasOtherInfo\" href=\"/b/ak-steels-saroor-nagar-hyderabad/269521408\">AK Steels</a><div class=\"eachPopularOtherActions\"><span class=\"yp\"></span><span class=\"certified aaP\"></span></div></div><div class=\"eachPopularRatingBlock\"><span class=\"rating r0-0\"></span><a class=\"ratingCount\" style=\"text-decoration:none;cursor:default\">0 reviews</a></div><div class=\"openNow\"><strong>Open</strong> - until 9:00PM</div><div class=\"eachPopularLink\"></div></div></div><div class=\"eachPopularRight\"><div class=\"addFav\" id=\"b269521408\" onclick=\"setFav(this)\"></div><a class=\"businessContact\" href=\"tel:9440192685\">+91 9440192685</a><address class=\"businessArea\"><strong>Saroor Nagar</strong> Hyderabad - 500035</address> <div class=\"directionsLocationsBlock\"><a href=\"http://www.google.com/maps/place/17.3526,78.5341\" rel=\"nofollow\" target=\"_blank\">Directions</a></div></div></div>"
      ]
     },
     "execution_count": 74,
     "metadata": {},
     "output_type": "execute_result"
    }
   ],
   "source": [
    "popular_content[0]"
   ]
  },
  {
   "cell_type": "code",
   "execution_count": 92,
   "metadata": {},
   "outputs": [],
   "source": [
    "#for i in range(len(popular_content)):\n",
    "    #sp = BeautifulSoup(popular_content[i])\n",
    "names = soup2.find_all('a',class_='eachPopularTitle hasOtherInfo')\n",
    "ratings = soup2.find_all('a',class_='ratingCount')\n",
    "statuses = soup2.find_all('div',class_='openNow')\n",
    "contacts = soup2.find_all('a',class_='businessContact')\n",
    "addresses = soup2.find_all('address',class_='businessArea')"
   ]
  },
  {
   "cell_type": "code",
   "execution_count": 93,
   "metadata": {},
   "outputs": [
    {
     "name": "stdout",
     "output_type": "stream",
     "text": [
      "['AK Steels', 'Maruti Commercial Corporation', 'General Industrial Suppliers', 'Jagadamba Steel', 'Inderson Pipes & Tubes', 'Srinath Steel India', 'Rasika Metals Stockists', 'Suraj Metal Corporation', 'Shah Enterprises', 'Greenstar Impex Private Limited', 'Rahul Tube Industries', 'Jay Shree Steel', 'Vikram Metal (India)'] \n",
      " ['0 reviews', '0 reviews', '0 reviews', '0 reviews', '0 reviews', '0 reviews', '0 reviews', '0 reviews', '0 reviews', '0 reviews', '0 reviews', '0 reviews', '0 reviews'] \n",
      " ['+91 9440192685', '+91 40 66312319', '+91 9247180452', '+91 9533275221', '+91 9246877986', '+91 9390030433', '+91 9848272478', '+91 9440054782', '+91 9849387287', '+91 40 27806203', '+91 9160547694', '+91 9000971004', '+91 9959985314'] \n",
      " ['Saroor Nagar Hyderabad - 500035', 'Ranigunj Hyderabad - 500003', 'Secunderabad Hyderabad - 500003', 'Fathe Nagar Hyderabad - 500018', 'Fathe Nagar Hyderabad - 500018', 'Bala Nagar Hyderabad - 500037', 'Ranigunj Hyderabad - 500003', 'Ranigunj Hyderabad - 500003', 'Secunderabad Hyderabad - 500003', 'Secunderabad Hyderabad - 500003', 'Ranigunj Hyderabad - 500003', 'Fathe Nagar Hyderabad - 500018', 'Fathe Nagar Hyderabad - 500018'] \n",
      " ['Open - until 9:00PM', 'Open - until 7:00PM', 'Open - until 8:00PM', 'Open - until 7:00PM', 'Open - until 9:30PM', 'Open - until 8:00PM', 'Open - until 7:00PM', 'Open - until 9:30PM', 'Open - until 7:00PM', 'Open - until 7:00PM', 'Open - until 8:00PM', 'Open - until 8:00PM', 'Open - until 8:00PM']\n"
     ]
    }
   ],
   "source": [
    "name = [names[i].text for i in range(len(names))]\n",
    "rating = [ratings[i].text for i in range(len(ratings))]\n",
    "status = [statuses[i].text for i in range(len(statuses))]\n",
    "contact = [contacts[i].text for i in range(len(contacts))]\n",
    "address = [addresses[i].text for i in range(len(addresses))]\n",
    "print(name,'\\n',rating,'\\n',contact,'\\n',address,'\\n',status)"
   ]
  },
  {
   "cell_type": "code",
   "execution_count": 103,
   "metadata": {},
   "outputs": [
    {
     "data": {
      "text/html": [
       "<div>\n",
       "<style scoped>\n",
       "    .dataframe tbody tr th:only-of-type {\n",
       "        vertical-align: middle;\n",
       "    }\n",
       "\n",
       "    .dataframe tbody tr th {\n",
       "        vertical-align: top;\n",
       "    }\n",
       "\n",
       "    .dataframe thead th {\n",
       "        text-align: right;\n",
       "    }\n",
       "</style>\n",
       "<table border=\"1\" class=\"dataframe\">\n",
       "  <thead>\n",
       "    <tr style=\"text-align: right;\">\n",
       "      <th></th>\n",
       "      <th>Name</th>\n",
       "      <th>Reviews</th>\n",
       "      <th>Open//Closed</th>\n",
       "      <th>Contact</th>\n",
       "      <th>Address</th>\n",
       "    </tr>\n",
       "  </thead>\n",
       "  <tbody>\n",
       "    <tr>\n",
       "      <th>0</th>\n",
       "      <td>AK Steels</td>\n",
       "      <td>0 reviews</td>\n",
       "      <td>Open - until 9:00PM</td>\n",
       "      <td>+91 9440192685</td>\n",
       "      <td>Saroor Nagar Hyderabad - 500035</td>\n",
       "    </tr>\n",
       "    <tr>\n",
       "      <th>1</th>\n",
       "      <td>Maruti Commercial Corporation</td>\n",
       "      <td>0 reviews</td>\n",
       "      <td>Open - until 7:00PM</td>\n",
       "      <td>+91 40 66312319</td>\n",
       "      <td>Ranigunj Hyderabad - 500003</td>\n",
       "    </tr>\n",
       "    <tr>\n",
       "      <th>2</th>\n",
       "      <td>General Industrial Suppliers</td>\n",
       "      <td>0 reviews</td>\n",
       "      <td>Open - until 8:00PM</td>\n",
       "      <td>+91 9247180452</td>\n",
       "      <td>Secunderabad Hyderabad - 500003</td>\n",
       "    </tr>\n",
       "    <tr>\n",
       "      <th>3</th>\n",
       "      <td>Jagadamba Steel</td>\n",
       "      <td>0 reviews</td>\n",
       "      <td>Open - until 7:00PM</td>\n",
       "      <td>+91 9533275221</td>\n",
       "      <td>Fathe Nagar Hyderabad - 500018</td>\n",
       "    </tr>\n",
       "    <tr>\n",
       "      <th>4</th>\n",
       "      <td>Inderson Pipes &amp; Tubes</td>\n",
       "      <td>0 reviews</td>\n",
       "      <td>Open - until 9:30PM</td>\n",
       "      <td>+91 9246877986</td>\n",
       "      <td>Fathe Nagar Hyderabad - 500018</td>\n",
       "    </tr>\n",
       "    <tr>\n",
       "      <th>5</th>\n",
       "      <td>Srinath Steel India</td>\n",
       "      <td>0 reviews</td>\n",
       "      <td>Open - until 8:00PM</td>\n",
       "      <td>+91 9390030433</td>\n",
       "      <td>Bala Nagar Hyderabad - 500037</td>\n",
       "    </tr>\n",
       "    <tr>\n",
       "      <th>6</th>\n",
       "      <td>Rasika Metals Stockists</td>\n",
       "      <td>0 reviews</td>\n",
       "      <td>Open - until 7:00PM</td>\n",
       "      <td>+91 9848272478</td>\n",
       "      <td>Ranigunj Hyderabad - 500003</td>\n",
       "    </tr>\n",
       "    <tr>\n",
       "      <th>7</th>\n",
       "      <td>Suraj Metal Corporation</td>\n",
       "      <td>0 reviews</td>\n",
       "      <td>Open - until 9:30PM</td>\n",
       "      <td>+91 9440054782</td>\n",
       "      <td>Ranigunj Hyderabad - 500003</td>\n",
       "    </tr>\n",
       "    <tr>\n",
       "      <th>8</th>\n",
       "      <td>Shah Enterprises</td>\n",
       "      <td>0 reviews</td>\n",
       "      <td>Open - until 7:00PM</td>\n",
       "      <td>+91 9849387287</td>\n",
       "      <td>Secunderabad Hyderabad - 500003</td>\n",
       "    </tr>\n",
       "    <tr>\n",
       "      <th>9</th>\n",
       "      <td>Greenstar Impex Private Limited</td>\n",
       "      <td>0 reviews</td>\n",
       "      <td>Open - until 7:00PM</td>\n",
       "      <td>+91 40 27806203</td>\n",
       "      <td>Secunderabad Hyderabad - 500003</td>\n",
       "    </tr>\n",
       "    <tr>\n",
       "      <th>10</th>\n",
       "      <td>Rahul Tube Industries</td>\n",
       "      <td>0 reviews</td>\n",
       "      <td>Open - until 8:00PM</td>\n",
       "      <td>+91 9160547694</td>\n",
       "      <td>Ranigunj Hyderabad - 500003</td>\n",
       "    </tr>\n",
       "    <tr>\n",
       "      <th>11</th>\n",
       "      <td>Jay Shree Steel</td>\n",
       "      <td>0 reviews</td>\n",
       "      <td>Open - until 8:00PM</td>\n",
       "      <td>+91 9000971004</td>\n",
       "      <td>Fathe Nagar Hyderabad - 500018</td>\n",
       "    </tr>\n",
       "    <tr>\n",
       "      <th>12</th>\n",
       "      <td>Vikram Metal (India)</td>\n",
       "      <td>0 reviews</td>\n",
       "      <td>Open - until 8:00PM</td>\n",
       "      <td>+91 9959985314</td>\n",
       "      <td>Fathe Nagar Hyderabad - 500018</td>\n",
       "    </tr>\n",
       "  </tbody>\n",
       "</table>\n",
       "</div>"
      ],
      "text/plain": [
       "                               Name    Reviews         Open//Closed  \\\n",
       "0                         AK Steels  0 reviews  Open - until 9:00PM   \n",
       "1     Maruti Commercial Corporation  0 reviews  Open - until 7:00PM   \n",
       "2      General Industrial Suppliers  0 reviews  Open - until 8:00PM   \n",
       "3                   Jagadamba Steel  0 reviews  Open - until 7:00PM   \n",
       "4            Inderson Pipes & Tubes  0 reviews  Open - until 9:30PM   \n",
       "5               Srinath Steel India  0 reviews  Open - until 8:00PM   \n",
       "6           Rasika Metals Stockists  0 reviews  Open - until 7:00PM   \n",
       "7           Suraj Metal Corporation  0 reviews  Open - until 9:30PM   \n",
       "8                  Shah Enterprises  0 reviews  Open - until 7:00PM   \n",
       "9   Greenstar Impex Private Limited  0 reviews  Open - until 7:00PM   \n",
       "10            Rahul Tube Industries  0 reviews  Open - until 8:00PM   \n",
       "11                  Jay Shree Steel  0 reviews  Open - until 8:00PM   \n",
       "12             Vikram Metal (India)  0 reviews  Open - until 8:00PM   \n",
       "\n",
       "            Contact                          Address  \n",
       "0    +91 9440192685  Saroor Nagar Hyderabad - 500035  \n",
       "1   +91 40 66312319      Ranigunj Hyderabad - 500003  \n",
       "2    +91 9247180452  Secunderabad Hyderabad - 500003  \n",
       "3    +91 9533275221   Fathe Nagar Hyderabad - 500018  \n",
       "4    +91 9246877986   Fathe Nagar Hyderabad - 500018  \n",
       "5    +91 9390030433    Bala Nagar Hyderabad - 500037  \n",
       "6    +91 9848272478      Ranigunj Hyderabad - 500003  \n",
       "7    +91 9440054782      Ranigunj Hyderabad - 500003  \n",
       "8    +91 9849387287  Secunderabad Hyderabad - 500003  \n",
       "9   +91 40 27806203  Secunderabad Hyderabad - 500003  \n",
       "10   +91 9160547694      Ranigunj Hyderabad - 500003  \n",
       "11   +91 9000971004   Fathe Nagar Hyderabad - 500018  \n",
       "12   +91 9959985314   Fathe Nagar Hyderabad - 500018  "
      ]
     },
     "execution_count": 103,
     "metadata": {},
     "output_type": "execute_result"
    }
   ],
   "source": [
    "df = pd.DataFrame([name,rating,status,contact,address]).T\n",
    "df = df.rename(columns={0:'Name',1:'Reviews',2:'Open//Closed',3:'Contact',4:'Address'})\n",
    "df"
   ]
  },
  {
   "cell_type": "code",
   "execution_count": null,
   "metadata": {},
   "outputs": [],
   "source": []
  }
 ],
 "metadata": {
  "kernelspec": {
   "display_name": "Python 3",
   "language": "python",
   "name": "python3"
  },
  "language_info": {
   "codemirror_mode": {
    "name": "ipython",
    "version": 3
   },
   "file_extension": ".py",
   "mimetype": "text/x-python",
   "name": "python",
   "nbconvert_exporter": "python",
   "pygments_lexer": "ipython3",
   "version": "3.8.10"
  }
 },
 "nbformat": 4,
 "nbformat_minor": 2
}
